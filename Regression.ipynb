{
 "cells": [
  {
   "cell_type": "markdown",
   "id": "b910acbd-7124-4db2-911f-68d3a96036cf",
   "metadata": {},
   "source": [
    "# REGRESSION"
   ]
  },
  {
   "cell_type": "markdown",
   "id": "c70a3c7c-45a4-405e-b12d-7b3dc8b0d0f3",
   "metadata": {},
   "source": [
    "# California Housing Regression Assignment"
   ]
  },
  {
   "cell_type": "markdown",
   "id": "5fd71796-ee81-47e7-98ac-23691ab81993",
   "metadata": {},
   "source": [
    "# 1. Load and Preprocess\n"
   ]
  },
  {
   "cell_type": "code",
   "execution_count": 11,
   "id": "676120ae-cbab-4ecc-a6b0-4cdfac714ec2",
   "metadata": {},
   "outputs": [],
   "source": [
    "from sklearn.datasets import fetch_california_housing\n",
    "import pandas as pd\n",
    "import numpy as np\n",
    "from sklearn.preprocessing import StandardScaler"
   ]
  },
  {
   "cell_type": "code",
   "execution_count": 13,
   "id": "4b37ec27-e6b7-4b61-afcc-d22369311af6",
   "metadata": {},
   "outputs": [],
   "source": [
    "# Load dataset\n",
    "california = fetch_california_housing()\n",
    "df = pd.DataFrame(california.data, columns=california.feature_names)\n",
    "df['MedHouseVal'] = california.target\n"
   ]
  },
  {
   "cell_type": "code",
   "execution_count": 15,
   "id": "d32e0c97-2920-49a8-9883-edfe49d6f293",
   "metadata": {},
   "outputs": [
    {
     "name": "stdout",
     "output_type": "stream",
     "text": [
      "Missing values in each column:\n",
      " MedInc         0\n",
      "HouseAge       0\n",
      "AveRooms       0\n",
      "AveBedrms      0\n",
      "Population     0\n",
      "AveOccup       0\n",
      "Latitude       0\n",
      "Longitude      0\n",
      "MedHouseVal    0\n",
      "dtype: int64\n"
     ]
    }
   ],
   "source": [
    "# Check for missing values\n",
    "print(\"Missing values in each column:\\n\", df.isnull().sum())"
   ]
  },
  {
   "cell_type": "code",
   "execution_count": 17,
   "id": "adf6c68a-59e6-4864-9435-df9739b8f2c9",
   "metadata": {},
   "outputs": [],
   "source": [
    "# Feature scaling (standardization)\n",
    "scaler = StandardScaler()\n",
    "scaled_features = scaler.fit_transform(df.drop('MedHouseVal', axis=1))\n",
    "scaled_df = pd.DataFrame(scaled_features, columns=california.feature_names)\n",
    "scaled_df['MedHouseVal'] = df['MedHouseVal']\n"
   ]
  },
  {
   "cell_type": "code",
   "execution_count": 19,
   "id": "7b8be7f3-d85c-48d0-ad6f-91b24f3b7740",
   "metadata": {},
   "outputs": [
    {
     "name": "stdout",
     "output_type": "stream",
     "text": [
      "\n",
      "First 5 rows of the preprocessed dataset:\n",
      "     MedInc  HouseAge  AveRooms  AveBedrms  Population  AveOccup  Latitude  \\\n",
      "0  2.344766  0.982143  0.628559  -0.153758   -0.974429 -0.049597  1.052548   \n",
      "1  2.332238 -0.607019  0.327041  -0.263336    0.861439 -0.092512  1.043185   \n",
      "2  1.782699  1.856182  1.155620  -0.049016   -0.820777 -0.025843  1.038503   \n",
      "3  0.932968  1.856182  0.156966  -0.049833   -0.766028 -0.050329  1.038503   \n",
      "4 -0.012881  1.856182  0.344711  -0.032906   -0.759847 -0.085616  1.038503   \n",
      "\n",
      "   Longitude  MedHouseVal  \n",
      "0  -1.327835        4.526  \n",
      "1  -1.322844        3.585  \n",
      "2  -1.332827        3.521  \n",
      "3  -1.337818        3.413  \n",
      "4  -1.337818        3.422  \n"
     ]
    }
   ],
   "source": [
    "# Preview the preprocessed data\n",
    "print(\"\\nFirst 5 rows of the preprocessed dataset:\")\n",
    "print(scaled_df.head())"
   ]
  },
  {
   "cell_type": "markdown",
   "id": "a26445ea-88e1-47de-bb7d-970fa75668bc",
   "metadata": {},
   "source": [
    "# 2. Regression Models\n"
   ]
  },
  {
   "cell_type": "code",
   "execution_count": 22,
   "id": "de1d2030-b5ed-461e-b5da-25a1f703e8f8",
   "metadata": {},
   "outputs": [],
   "source": [
    "from sklearn.model_selection import train_test_split\n",
    "from sklearn.linear_model import LinearRegression\n",
    "from sklearn.tree import DecisionTreeRegressor\n",
    "from sklearn.ensemble import RandomForestRegressor, GradientBoostingRegressor\n",
    "from sklearn.svm import SVR\n",
    "from sklearn.metrics import mean_squared_error, mean_absolute_error, r2_score"
   ]
  },
  {
   "cell_type": "code",
   "execution_count": 24,
   "id": "92af5c2b-53fb-4dfd-909d-1a4722109c69",
   "metadata": {},
   "outputs": [],
   "source": [
    "# Train-test split\n",
    "X = scaled_df.drop('MedHouseVal', axis=1)\n",
    "y = scaled_df['MedHouseVal']\n",
    "X_train, X_test, y_train, y_test = train_test_split(X, y, test_size=0.2, random_state=42)"
   ]
  },
  {
   "cell_type": "code",
   "execution_count": 26,
   "id": "bed4bb46-035e-416f-828d-6e50532db4bd",
   "metadata": {},
   "outputs": [],
   "source": [
    "# Function to evaluate models\n",
    "def evaluate_model(model):\n",
    "    model.fit(X_train, y_train)\n",
    "    y_pred = model.predict(X_test)\n",
    "    mse = mean_squared_error(y_test, y_pred)\n",
    "    mae = mean_absolute_error(y_test, y_pred)\n",
    "    r2 = r2_score(y_test, y_pred)\n",
    "    print(f\"{model.__class__.__name__} Evaluation:\")\n",
    "    print(f\"MSE: {mse:.4f}, MAE: {mae:.4f}, R²: {r2:.4f}\\n\")\n",
    "    return mse, mae, r2"
   ]
  },
  {
   "cell_type": "code",
   "execution_count": 30,
   "id": "6db46ecd-b515-4500-bd7f-fe9cdd508fd1",
   "metadata": {},
   "outputs": [],
   "source": [
    "# Define models\n",
    "models = {\n",
    "    \"Linear Regression\": LinearRegression(),\n",
    "    \"Decision Tree\": DecisionTreeRegressor(random_state=42),\n",
    "    \"Random Forest\": RandomForestRegressor(random_state=42),\n",
    "    \"Gradient Boosting\": GradientBoostingRegressor(random_state=42),\n",
    "    \"SVR\": SVR()\n",
    "}"
   ]
  },
  {
   "cell_type": "code",
   "execution_count": 32,
   "id": "c68b32cf-42df-47dc-a5d8-40c1fd2c3866",
   "metadata": {},
   "outputs": [],
   "source": [
    "# Function to evaluate models\n",
    "def evaluate_model(model):\n",
    "    model.fit(X_train, y_train)\n",
    "    y_pred = model.predict(X_test)\n",
    "    mse = mean_squared_error(y_test, y_pred)\n",
    "    mae = mean_absolute_error(y_test, y_pred)\n",
    "    r2 = r2_score(y_test, y_pred)\n",
    "    print(f\"{model.__class__.__name__} Evaluation:\")\n",
    "    print(f\"MSE: {mse:.4f}, MAE: {mae:.4f}, R²: {r2:.4f}\\n\")\n",
    "    return mse, mae, r2"
   ]
  },
  {
   "cell_type": "code",
   "execution_count": 36,
   "id": "87c2154e-2ebb-44f1-a7ba-8341e6b70e57",
   "metadata": {},
   "outputs": [],
   "source": [
    "# Define models\n",
    "models = {\n",
    "    \"Linear Regression\": LinearRegression(),\n",
    "    \"Decision Tree\": DecisionTreeRegressor(random_state=42),\n",
    "    \"Random Forest\": RandomForestRegressor(random_state=42),\n",
    "    \"Gradient Boosting\": GradientBoostingRegressor(random_state=42),\n",
    "    \"SVR\": SVR()\n",
    "}"
   ]
  },
  {
   "cell_type": "code",
   "execution_count": 38,
   "id": "32cc7acc-c291-49d8-9822-85c2b143de35",
   "metadata": {},
   "outputs": [
    {
     "name": "stdout",
     "output_type": "stream",
     "text": [
      "Running Linear Regression...\n",
      "LinearRegression Evaluation:\n",
      "MSE: 0.5559, MAE: 0.5332, R²: 0.5758\n",
      "\n",
      "Running Decision Tree...\n",
      "DecisionTreeRegressor Evaluation:\n",
      "MSE: 0.4943, MAE: 0.4538, R²: 0.6228\n",
      "\n",
      "Running Random Forest...\n",
      "RandomForestRegressor Evaluation:\n",
      "MSE: 0.2555, MAE: 0.3276, R²: 0.8050\n",
      "\n",
      "Running Gradient Boosting...\n",
      "GradientBoostingRegressor Evaluation:\n",
      "MSE: 0.2940, MAE: 0.3717, R²: 0.7756\n",
      "\n",
      "Running SVR...\n",
      "SVR Evaluation:\n",
      "MSE: 0.3552, MAE: 0.3978, R²: 0.7289\n",
      "\n"
     ]
    }
   ],
   "source": [
    "# Evaluate and store results\n",
    "results = {}\n",
    "for name, model in models.items():\n",
    "    print(f\"Running {name}...\")\n",
    "    mse, mae, r2 = evaluate_model(model)\n",
    "    results[name] = {\"MSE\": mse, \"MAE\": mae, \"R²\": r2}"
   ]
  },
  {
   "cell_type": "code",
   "execution_count": 39,
   "id": "a8b7f8e5-f7c5-445d-8d3f-4a2bb0b30154",
   "metadata": {},
   "outputs": [
    {
     "name": "stdout",
     "output_type": "stream",
     "text": [
      "\n",
      "Model Evaluation Results Summary:\n",
      "\n",
      "                        MSE       MAE        R²\n",
      "Linear Regression  0.555892  0.533200  0.575788\n",
      "Decision Tree      0.494272  0.453784  0.622811\n",
      "Random Forest      0.255498  0.327613  0.805024\n",
      "Gradient Boosting  0.293999  0.371650  0.775643\n",
      "SVR                0.355198  0.397763  0.728941\n"
     ]
    }
   ],
   "source": [
    "# Convert to DataFrame and display\n",
    "results_df = pd.DataFrame(results).T\n",
    "print(\"\\nModel Evaluation Results Summary:\\n\")\n",
    "print(results_df)"
   ]
  },
  {
   "cell_type": "markdown",
   "id": "d0c2e9f8-e101-4a2d-9a77-67f45d6055d2",
   "metadata": {},
   "source": [
    "# 3. Summary & Conclusion\n"
   ]
  },
  {
   "cell_type": "code",
   "execution_count": 43,
   "id": "a31c66c6-c916-4fc9-8493-138638bc27d2",
   "metadata": {},
   "outputs": [
    {
     "name": "stdout",
     "output_type": "stream",
     "text": [
      "\n",
      "✅ Best Performing Model: Random Forest\n",
      "❌ Worst Performing Model: Linear Regression\n"
     ]
    }
   ],
   "source": [
    "# Best and worst models\n",
    "best_model = results_df['R²'].idxmax()\n",
    "worst_model = results_df['R²'].idxmin()\n",
    "\n",
    "print(f\"\\n✅ Best Performing Model: {best_model}\")\n",
    "print(f\"❌ Worst Performing Model: {worst_model}\")"
   ]
  },
  {
   "cell_type": "code",
   "execution_count": null,
   "id": "d3ecbff3-1b4f-45b6-b293-b2027009db34",
   "metadata": {},
   "outputs": [],
   "source": []
  }
 ],
 "metadata": {
  "kernelspec": {
   "display_name": "Python [conda env:base] *",
   "language": "python",
   "name": "conda-base-py"
  },
  "language_info": {
   "codemirror_mode": {
    "name": "ipython",
    "version": 3
   },
   "file_extension": ".py",
   "mimetype": "text/x-python",
   "name": "python",
   "nbconvert_exporter": "python",
   "pygments_lexer": "ipython3",
   "version": "3.12.7"
  }
 },
 "nbformat": 4,
 "nbformat_minor": 5
}
